{
 "cells": [
  {
   "cell_type": "code",
   "execution_count": 1,
   "id": "085c4076",
   "metadata": {},
   "outputs": [],
   "source": [
    "import pandas as pd\n",
    "import numpy as np\n",
    "import matplotlib.pyplot as plt\n",
    "import seaborn as sns\n",
    "pd.set_option('display.max_columns', None)"
   ]
  },
  {
   "cell_type": "code",
   "execution_count": 2,
   "id": "c9a3e08d",
   "metadata": {},
   "outputs": [],
   "source": [
    "url1 = 'https://raw.githubusercontent.com/a-milenkin/Competitive_Data_Science/main/data/car_train.csv'\n",
    "df = pd.read_csv(url1)"
   ]
  },
  {
   "cell_type": "code",
   "execution_count": 3,
   "id": "85499108",
   "metadata": {
    "scrolled": true
   },
   "outputs": [
    {
     "data": {
      "text/html": [
       "<div>\n",
       "<style scoped>\n",
       "    .dataframe tbody tr th:only-of-type {\n",
       "        vertical-align: middle;\n",
       "    }\n",
       "\n",
       "    .dataframe tbody tr th {\n",
       "        vertical-align: top;\n",
       "    }\n",
       "\n",
       "    .dataframe thead th {\n",
       "        text-align: right;\n",
       "    }\n",
       "</style>\n",
       "<table border=\"1\" class=\"dataframe\">\n",
       "  <thead>\n",
       "    <tr style=\"text-align: right;\">\n",
       "      <th></th>\n",
       "      <th>car_id</th>\n",
       "      <th>model</th>\n",
       "      <th>car_type</th>\n",
       "      <th>fuel_type</th>\n",
       "      <th>car_rating</th>\n",
       "      <th>year_to_start</th>\n",
       "      <th>riders</th>\n",
       "      <th>year_to_work</th>\n",
       "      <th>target_reg</th>\n",
       "      <th>target_class</th>\n",
       "    </tr>\n",
       "  </thead>\n",
       "  <tbody>\n",
       "    <tr>\n",
       "      <th>0</th>\n",
       "      <td>y13744087j</td>\n",
       "      <td>Kia Rio X-line</td>\n",
       "      <td>economy</td>\n",
       "      <td>petrol</td>\n",
       "      <td>3.78</td>\n",
       "      <td>2015</td>\n",
       "      <td>76163</td>\n",
       "      <td>2021</td>\n",
       "      <td>9492.96</td>\n",
       "      <td>another_bug</td>\n",
       "    </tr>\n",
       "    <tr>\n",
       "      <th>1</th>\n",
       "      <td>O41613818T</td>\n",
       "      <td>VW Polo VI</td>\n",
       "      <td>economy</td>\n",
       "      <td>petrol</td>\n",
       "      <td>3.90</td>\n",
       "      <td>2015</td>\n",
       "      <td>78218</td>\n",
       "      <td>2021</td>\n",
       "      <td>2656.23</td>\n",
       "      <td>electro_bug</td>\n",
       "    </tr>\n",
       "    <tr>\n",
       "      <th>2</th>\n",
       "      <td>d-2109686j</td>\n",
       "      <td>Renault Sandero</td>\n",
       "      <td>standart</td>\n",
       "      <td>petrol</td>\n",
       "      <td>6.30</td>\n",
       "      <td>2012</td>\n",
       "      <td>23340</td>\n",
       "      <td>2017</td>\n",
       "      <td>1526.11</td>\n",
       "      <td>gear_stick</td>\n",
       "    </tr>\n",
       "    <tr>\n",
       "      <th>3</th>\n",
       "      <td>u29695600e</td>\n",
       "      <td>Mercedes-Benz GLC</td>\n",
       "      <td>business</td>\n",
       "      <td>petrol</td>\n",
       "      <td>4.04</td>\n",
       "      <td>2011</td>\n",
       "      <td>1263</td>\n",
       "      <td>2020</td>\n",
       "      <td>1338.00</td>\n",
       "      <td>engine_fuel</td>\n",
       "    </tr>\n",
       "    <tr>\n",
       "      <th>4</th>\n",
       "      <td>N-8915870N</td>\n",
       "      <td>Renault Sandero</td>\n",
       "      <td>standart</td>\n",
       "      <td>petrol</td>\n",
       "      <td>4.70</td>\n",
       "      <td>2012</td>\n",
       "      <td>26428</td>\n",
       "      <td>2017</td>\n",
       "      <td>825.72</td>\n",
       "      <td>engine_fuel</td>\n",
       "    </tr>\n",
       "  </tbody>\n",
       "</table>\n",
       "</div>"
      ],
      "text/plain": [
       "       car_id              model  car_type fuel_type  car_rating  \\\n",
       "0  y13744087j     Kia Rio X-line   economy    petrol        3.78   \n",
       "1  O41613818T         VW Polo VI   economy    petrol        3.90   \n",
       "2  d-2109686j    Renault Sandero  standart    petrol        6.30   \n",
       "3  u29695600e  Mercedes-Benz GLC  business    petrol        4.04   \n",
       "4  N-8915870N    Renault Sandero  standart    petrol        4.70   \n",
       "\n",
       "   year_to_start  riders  year_to_work  target_reg target_class  \n",
       "0           2015   76163          2021     9492.96  another_bug  \n",
       "1           2015   78218          2021     2656.23  electro_bug  \n",
       "2           2012   23340          2017     1526.11   gear_stick  \n",
       "3           2011    1263          2020     1338.00  engine_fuel  \n",
       "4           2012   26428          2017      825.72  engine_fuel  "
      ]
     },
     "execution_count": 3,
     "metadata": {},
     "output_type": "execute_result"
    }
   ],
   "source": [
    "df.head()"
   ]
  },
  {
   "cell_type": "markdown",
   "id": "b18bbc1b",
   "metadata": {},
   "source": [
    "# Start with basic dataframe to get Baseline"
   ]
  },
  {
   "cell_type": "markdown",
   "id": "dc7b3921",
   "metadata": {},
   "source": [
    "Make a function preparing dataset"
   ]
  },
  {
   "cell_type": "code",
   "execution_count": 4,
   "id": "f6ec5a10",
   "metadata": {},
   "outputs": [],
   "source": [
    "def prep(df):\n",
    "    if df is None:\n",
    "        return 0\n",
    "    \n",
    "    temp = df.copy()\n",
    "    temp = temp[['model', 'car_type', 'fuel_type', 'car_rating', 'year_to_start', 'riders', 'year_to_work']]\n",
    "    \n",
    "    # make ohe for columns car_type and fuel_type\n",
    "    ohe = pd.get_dummies(df[['car_type', 'fuel_type']]).drop(['car_type_business', 'fuel_type_electro'], axis=1)\n",
    "    temp = pd.concat([temp, ohe], axis=1).drop(['car_type', 'fuel_type'], axis=1)\n",
    "    \n",
    "    \n",
    "    return temp"
   ]
  },
  {
   "cell_type": "code",
   "execution_count": 5,
   "id": "63c12de4",
   "metadata": {},
   "outputs": [],
   "source": [
    "from sklearn.model_selection import train_test_split"
   ]
  },
  {
   "cell_type": "markdown",
   "id": "efc3e976",
   "metadata": {},
   "source": [
    "Make standart Train Test Split"
   ]
  },
  {
   "cell_type": "code",
   "execution_count": 6,
   "id": "10015daa",
   "metadata": {},
   "outputs": [],
   "source": [
    "X = prep(df)\n",
    "y = df['target_class']\n",
    "\n",
    "X_train, X_test, y_train, y_test = train_test_split(X, y, test_size=0.20, random_state=42)"
   ]
  },
  {
   "cell_type": "markdown",
   "id": "d21db908",
   "metadata": {},
   "source": [
    "Lets take default catboost"
   ]
  },
  {
   "cell_type": "code",
   "execution_count": 7,
   "id": "1a0b1693",
   "metadata": {},
   "outputs": [],
   "source": [
    "from catboost import CatBoostClassifier\n",
    "from sklearn.metrics import accuracy_score"
   ]
  },
  {
   "cell_type": "code",
   "execution_count": 8,
   "id": "a18be490",
   "metadata": {
    "scrolled": true
   },
   "outputs": [
    {
     "name": "stdout",
     "output_type": "stream",
     "text": [
      "Learning rate set to 0.173181\n",
      "0:\tlearn: 2.1934731\ttest: 2.1958543\tbest: 2.1958543 (0)\ttotal: 157ms\tremaining: 47.1s\n",
      "20:\tlearn: 2.0692537\ttest: 2.1918308\tbest: 2.1894681 (14)\ttotal: 1.21s\tremaining: 16.1s\n",
      "Stopped by overfitting detector  (20 iterations wait)\n",
      "\n",
      "bestTest = 2.189468085\n",
      "bestIteration = 14\n",
      "\n",
      "Shrink model to first 15 iterations.\n"
     ]
    }
   ],
   "source": [
    "cat_cols = ['model', 'year_to_start', 'year_to_work']\n",
    "ctb = CatBoostClassifier(iterations=300).fit(X_train, y_train, \n",
    "                                             eval_set=(X_test, y_test), \n",
    "                                             cat_features=cat_cols, \n",
    "                                             early_stopping_rounds=20,                                         \n",
    "                                             verbose=20)"
   ]
  },
  {
   "cell_type": "code",
   "execution_count": 9,
   "id": "b54d8d87",
   "metadata": {},
   "outputs": [
    {
     "name": "stdout",
     "output_type": "stream",
     "text": [
      "Accuracy score 0.1111111111111111\n"
     ]
    }
   ],
   "source": [
    "y_pred = ctb.predict(X_test)\n",
    "\n",
    "print(f'Accuracy score {accuracy_score(y_test, y_pred)}')"
   ]
  },
  {
   "cell_type": "markdown",
   "id": "b2b6e466",
   "metadata": {},
   "source": [
    "# Lets Validate"
   ]
  },
  {
   "cell_type": "code",
   "execution_count": 10,
   "id": "895e276c",
   "metadata": {},
   "outputs": [],
   "source": [
    "url2 = 'https://raw.githubusercontent.com/a-milenkin/Competitive_Data_Science/main/data/car_test.csv'\n",
    "df_val = pd.read_csv(url2)"
   ]
  },
  {
   "cell_type": "code",
   "execution_count": 11,
   "id": "f2f9e7a4",
   "metadata": {},
   "outputs": [
    {
     "data": {
      "text/html": [
       "<div>\n",
       "<style scoped>\n",
       "    .dataframe tbody tr th:only-of-type {\n",
       "        vertical-align: middle;\n",
       "    }\n",
       "\n",
       "    .dataframe tbody tr th {\n",
       "        vertical-align: top;\n",
       "    }\n",
       "\n",
       "    .dataframe thead th {\n",
       "        text-align: right;\n",
       "    }\n",
       "</style>\n",
       "<table border=\"1\" class=\"dataframe\">\n",
       "  <thead>\n",
       "    <tr style=\"text-align: right;\">\n",
       "      <th></th>\n",
       "      <th>car_id</th>\n",
       "      <th>model</th>\n",
       "      <th>car_type</th>\n",
       "      <th>fuel_type</th>\n",
       "      <th>car_rating</th>\n",
       "      <th>year_to_start</th>\n",
       "      <th>riders</th>\n",
       "      <th>year_to_work</th>\n",
       "    </tr>\n",
       "  </thead>\n",
       "  <tbody>\n",
       "    <tr>\n",
       "      <th>0</th>\n",
       "      <td>P17494612l</td>\n",
       "      <td>Skoda Rapid</td>\n",
       "      <td>economy</td>\n",
       "      <td>petrol</td>\n",
       "      <td>4.80</td>\n",
       "      <td>2013</td>\n",
       "      <td>42269</td>\n",
       "      <td>2019</td>\n",
       "    </tr>\n",
       "    <tr>\n",
       "      <th>1</th>\n",
       "      <td>N-1530212S</td>\n",
       "      <td>Renault Sandero</td>\n",
       "      <td>standart</td>\n",
       "      <td>petrol</td>\n",
       "      <td>4.32</td>\n",
       "      <td>2015</td>\n",
       "      <td>90014</td>\n",
       "      <td>2016</td>\n",
       "    </tr>\n",
       "    <tr>\n",
       "      <th>2</th>\n",
       "      <td>B-1154399t</td>\n",
       "      <td>Smart ForTwo</td>\n",
       "      <td>economy</td>\n",
       "      <td>petrol</td>\n",
       "      <td>4.46</td>\n",
       "      <td>2015</td>\n",
       "      <td>82684</td>\n",
       "      <td>2017</td>\n",
       "    </tr>\n",
       "    <tr>\n",
       "      <th>3</th>\n",
       "      <td>F12725233R</td>\n",
       "      <td>Smart ForFour</td>\n",
       "      <td>economy</td>\n",
       "      <td>petrol</td>\n",
       "      <td>2.80</td>\n",
       "      <td>2014</td>\n",
       "      <td>68833</td>\n",
       "      <td>2021</td>\n",
       "    </tr>\n",
       "    <tr>\n",
       "      <th>4</th>\n",
       "      <td>l-1139189J</td>\n",
       "      <td>Skoda Rapid</td>\n",
       "      <td>economy</td>\n",
       "      <td>petrol</td>\n",
       "      <td>6.56</td>\n",
       "      <td>2013</td>\n",
       "      <td>42442</td>\n",
       "      <td>2021</td>\n",
       "    </tr>\n",
       "  </tbody>\n",
       "</table>\n",
       "</div>"
      ],
      "text/plain": [
       "       car_id            model  car_type fuel_type  car_rating  year_to_start  \\\n",
       "0  P17494612l      Skoda Rapid   economy    petrol        4.80           2013   \n",
       "1  N-1530212S  Renault Sandero  standart    petrol        4.32           2015   \n",
       "2  B-1154399t     Smart ForTwo   economy    petrol        4.46           2015   \n",
       "3  F12725233R    Smart ForFour   economy    petrol        2.80           2014   \n",
       "4  l-1139189J      Skoda Rapid   economy    petrol        6.56           2013   \n",
       "\n",
       "   riders  year_to_work  \n",
       "0   42269          2019  \n",
       "1   90014          2016  \n",
       "2   82684          2017  \n",
       "3   68833          2021  \n",
       "4   42442          2021  "
      ]
     },
     "execution_count": 11,
     "metadata": {},
     "output_type": "execute_result"
    }
   ],
   "source": [
    "df_val.head()"
   ]
  },
  {
   "cell_type": "code",
   "execution_count": 12,
   "id": "df75e752",
   "metadata": {},
   "outputs": [],
   "source": [
    "df_val['target_class'] = ctb.predict(prep(df_val))\n",
    "\n",
    "result = df_val[['car_id','target_class']]"
   ]
  },
  {
   "cell_type": "code",
   "execution_count": 13,
   "id": "97c38bb2",
   "metadata": {},
   "outputs": [],
   "source": [
    "result.to_csv('subs/01_answer_basic.csv', index=False)"
   ]
  },
  {
   "cell_type": "markdown",
   "id": "412a544e",
   "metadata": {},
   "source": [
    "# Adding additional data"
   ]
  },
  {
   "cell_type": "code",
   "execution_count": 14,
   "id": "9376fae2",
   "metadata": {},
   "outputs": [],
   "source": [
    "url1_2 = 'data/rides_info.csv'\n",
    "df_rides = pd.read_csv(url1_2)"
   ]
  },
  {
   "cell_type": "code",
   "execution_count": 15,
   "id": "9a77df1b",
   "metadata": {},
   "outputs": [
    {
     "data": {
      "text/html": [
       "<div>\n",
       "<style scoped>\n",
       "    .dataframe tbody tr th:only-of-type {\n",
       "        vertical-align: middle;\n",
       "    }\n",
       "\n",
       "    .dataframe tbody tr th {\n",
       "        vertical-align: top;\n",
       "    }\n",
       "\n",
       "    .dataframe thead th {\n",
       "        text-align: right;\n",
       "    }\n",
       "</style>\n",
       "<table border=\"1\" class=\"dataframe\">\n",
       "  <thead>\n",
       "    <tr style=\"text-align: right;\">\n",
       "      <th></th>\n",
       "      <th>user_id</th>\n",
       "      <th>car_id</th>\n",
       "      <th>ride_id</th>\n",
       "      <th>ride_date</th>\n",
       "      <th>rating</th>\n",
       "      <th>ride_duration</th>\n",
       "      <th>ride_cost</th>\n",
       "      <th>speed_avg</th>\n",
       "      <th>speed_max</th>\n",
       "      <th>stop_times</th>\n",
       "      <th>distance</th>\n",
       "      <th>refueling</th>\n",
       "      <th>user_ride_quality</th>\n",
       "      <th>deviation_normal</th>\n",
       "    </tr>\n",
       "  </thead>\n",
       "  <tbody>\n",
       "    <tr>\n",
       "      <th>0</th>\n",
       "      <td>o52317055h</td>\n",
       "      <td>A-1049127W</td>\n",
       "      <td>b1v</td>\n",
       "      <td>2020-01-01</td>\n",
       "      <td>4.95</td>\n",
       "      <td>21</td>\n",
       "      <td>268</td>\n",
       "      <td>36</td>\n",
       "      <td>113.548538</td>\n",
       "      <td>0</td>\n",
       "      <td>514.246920</td>\n",
       "      <td>0</td>\n",
       "      <td>1.115260</td>\n",
       "      <td>2.909</td>\n",
       "    </tr>\n",
       "    <tr>\n",
       "      <th>1</th>\n",
       "      <td>H41298704y</td>\n",
       "      <td>A-1049127W</td>\n",
       "      <td>T1U</td>\n",
       "      <td>2020-01-01</td>\n",
       "      <td>6.91</td>\n",
       "      <td>8</td>\n",
       "      <td>59</td>\n",
       "      <td>36</td>\n",
       "      <td>93.000000</td>\n",
       "      <td>1</td>\n",
       "      <td>197.520662</td>\n",
       "      <td>0</td>\n",
       "      <td>1.650465</td>\n",
       "      <td>4.133</td>\n",
       "    </tr>\n",
       "    <tr>\n",
       "      <th>2</th>\n",
       "      <td>v88009926E</td>\n",
       "      <td>A-1049127W</td>\n",
       "      <td>g1p</td>\n",
       "      <td>2020-01-02</td>\n",
       "      <td>6.01</td>\n",
       "      <td>20</td>\n",
       "      <td>315</td>\n",
       "      <td>61</td>\n",
       "      <td>81.959675</td>\n",
       "      <td>0</td>\n",
       "      <td>1276.328206</td>\n",
       "      <td>0</td>\n",
       "      <td>2.599112</td>\n",
       "      <td>2.461</td>\n",
       "    </tr>\n",
       "    <tr>\n",
       "      <th>3</th>\n",
       "      <td>t14229455i</td>\n",
       "      <td>A-1049127W</td>\n",
       "      <td>S1c</td>\n",
       "      <td>2020-01-02</td>\n",
       "      <td>0.26</td>\n",
       "      <td>19</td>\n",
       "      <td>205</td>\n",
       "      <td>32</td>\n",
       "      <td>128.000000</td>\n",
       "      <td>0</td>\n",
       "      <td>535.680831</td>\n",
       "      <td>0</td>\n",
       "      <td>3.216255</td>\n",
       "      <td>0.909</td>\n",
       "    </tr>\n",
       "    <tr>\n",
       "      <th>4</th>\n",
       "      <td>W17067612E</td>\n",
       "      <td>A-1049127W</td>\n",
       "      <td>X1b</td>\n",
       "      <td>2020-01-03</td>\n",
       "      <td>1.21</td>\n",
       "      <td>56</td>\n",
       "      <td>554</td>\n",
       "      <td>38</td>\n",
       "      <td>90.000000</td>\n",
       "      <td>1</td>\n",
       "      <td>1729.143367</td>\n",
       "      <td>0</td>\n",
       "      <td>2.716550</td>\n",
       "      <td>-1.822</td>\n",
       "    </tr>\n",
       "  </tbody>\n",
       "</table>\n",
       "</div>"
      ],
      "text/plain": [
       "      user_id      car_id ride_id   ride_date  rating  ride_duration  \\\n",
       "0  o52317055h  A-1049127W     b1v  2020-01-01    4.95             21   \n",
       "1  H41298704y  A-1049127W     T1U  2020-01-01    6.91              8   \n",
       "2  v88009926E  A-1049127W     g1p  2020-01-02    6.01             20   \n",
       "3  t14229455i  A-1049127W     S1c  2020-01-02    0.26             19   \n",
       "4  W17067612E  A-1049127W     X1b  2020-01-03    1.21             56   \n",
       "\n",
       "   ride_cost  speed_avg   speed_max  stop_times     distance  refueling  \\\n",
       "0        268         36  113.548538           0   514.246920          0   \n",
       "1         59         36   93.000000           1   197.520662          0   \n",
       "2        315         61   81.959675           0  1276.328206          0   \n",
       "3        205         32  128.000000           0   535.680831          0   \n",
       "4        554         38   90.000000           1  1729.143367          0   \n",
       "\n",
       "   user_ride_quality  deviation_normal  \n",
       "0           1.115260             2.909  \n",
       "1           1.650465             4.133  \n",
       "2           2.599112             2.461  \n",
       "3           3.216255             0.909  \n",
       "4           2.716550            -1.822  "
      ]
     },
     "execution_count": 15,
     "metadata": {},
     "output_type": "execute_result"
    }
   ],
   "source": [
    "df_rides.head()"
   ]
  },
  {
   "cell_type": "code",
   "execution_count": 16,
   "id": "c0fdb4f7",
   "metadata": {},
   "outputs": [],
   "source": [
    "# Make aggegation of additional dataframe\n",
    "df_rides_agg = df_rides.groupby('car_id', as_index=False).agg(sum_distance = ('distance', 'sum'),\n",
    "                                                               speed_max = ('speed_max', 'max'),\n",
    "                                                               user_rate_mean = ('rating', 'mean'),\n",
    "                                                               user_rate_min = ('rating', 'min'),\n",
    "                                                               speed_avg_max = ('speed_avg', 'max'),\n",
    "                                                               speed_avg_mean = ('speed_avg', 'mean'),\n",
    "                                                               rating_mean = ('user_ride_quality', 'mean'),\n",
    "                                                               rating_min = ('user_ride_quality', 'min'),\n",
    "                                                               total_avg_speed = ('speed_avg', 'sum'),\n",
    "                                                               total_max_speed = ('speed_max', 'sum')\n",
    "                                                              )"
   ]
  },
  {
   "cell_type": "code",
   "execution_count": 17,
   "id": "8945ba1c",
   "metadata": {},
   "outputs": [
    {
     "data": {
      "text/html": [
       "<div>\n",
       "<style scoped>\n",
       "    .dataframe tbody tr th:only-of-type {\n",
       "        vertical-align: middle;\n",
       "    }\n",
       "\n",
       "    .dataframe tbody tr th {\n",
       "        vertical-align: top;\n",
       "    }\n",
       "\n",
       "    .dataframe thead th {\n",
       "        text-align: right;\n",
       "    }\n",
       "</style>\n",
       "<table border=\"1\" class=\"dataframe\">\n",
       "  <thead>\n",
       "    <tr style=\"text-align: right;\">\n",
       "      <th></th>\n",
       "      <th>car_id</th>\n",
       "      <th>model</th>\n",
       "      <th>car_type</th>\n",
       "      <th>fuel_type</th>\n",
       "      <th>car_rating</th>\n",
       "      <th>year_to_start</th>\n",
       "      <th>riders</th>\n",
       "      <th>year_to_work</th>\n",
       "      <th>target_reg</th>\n",
       "      <th>target_class</th>\n",
       "      <th>sum_distance</th>\n",
       "      <th>speed_max</th>\n",
       "      <th>user_rate_mean</th>\n",
       "      <th>user_rate_min</th>\n",
       "      <th>speed_avg_max</th>\n",
       "      <th>speed_avg_mean</th>\n",
       "      <th>rating_mean</th>\n",
       "      <th>rating_min</th>\n",
       "      <th>total_avg_speed</th>\n",
       "      <th>total_max_speed</th>\n",
       "    </tr>\n",
       "  </thead>\n",
       "  <tbody>\n",
       "    <tr>\n",
       "      <th>0</th>\n",
       "      <td>y13744087j</td>\n",
       "      <td>Kia Rio X-line</td>\n",
       "      <td>economy</td>\n",
       "      <td>petrol</td>\n",
       "      <td>3.78</td>\n",
       "      <td>2015</td>\n",
       "      <td>76163</td>\n",
       "      <td>2021</td>\n",
       "      <td>9492.96</td>\n",
       "      <td>another_bug</td>\n",
       "      <td>1.214131e+07</td>\n",
       "      <td>180.855726</td>\n",
       "      <td>4.737759</td>\n",
       "      <td>0.1</td>\n",
       "      <td>77</td>\n",
       "      <td>44.660920</td>\n",
       "      <td>-0.901190</td>\n",
       "      <td>-10.501738</td>\n",
       "      <td>7771</td>\n",
       "      <td>14734.090155</td>\n",
       "    </tr>\n",
       "    <tr>\n",
       "      <th>1</th>\n",
       "      <td>O41613818T</td>\n",
       "      <td>VW Polo VI</td>\n",
       "      <td>economy</td>\n",
       "      <td>petrol</td>\n",
       "      <td>3.90</td>\n",
       "      <td>2015</td>\n",
       "      <td>78218</td>\n",
       "      <td>2021</td>\n",
       "      <td>2656.23</td>\n",
       "      <td>electro_bug</td>\n",
       "      <td>1.803909e+07</td>\n",
       "      <td>187.862734</td>\n",
       "      <td>4.480517</td>\n",
       "      <td>0.0</td>\n",
       "      <td>88</td>\n",
       "      <td>49.862069</td>\n",
       "      <td>14.018105</td>\n",
       "      <td>0.437053</td>\n",
       "      <td>8676</td>\n",
       "      <td>15568.550271</td>\n",
       "    </tr>\n",
       "    <tr>\n",
       "      <th>2</th>\n",
       "      <td>d-2109686j</td>\n",
       "      <td>Renault Sandero</td>\n",
       "      <td>standart</td>\n",
       "      <td>petrol</td>\n",
       "      <td>6.30</td>\n",
       "      <td>2012</td>\n",
       "      <td>23340</td>\n",
       "      <td>2017</td>\n",
       "      <td>1526.11</td>\n",
       "      <td>gear_stick</td>\n",
       "      <td>1.588366e+07</td>\n",
       "      <td>102.382857</td>\n",
       "      <td>4.768391</td>\n",
       "      <td>0.1</td>\n",
       "      <td>73</td>\n",
       "      <td>44.005747</td>\n",
       "      <td>0.722771</td>\n",
       "      <td>-12.535368</td>\n",
       "      <td>7657</td>\n",
       "      <td>11740.406294</td>\n",
       "    </tr>\n",
       "    <tr>\n",
       "      <th>3</th>\n",
       "      <td>u29695600e</td>\n",
       "      <td>Mercedes-Benz GLC</td>\n",
       "      <td>business</td>\n",
       "      <td>petrol</td>\n",
       "      <td>4.04</td>\n",
       "      <td>2011</td>\n",
       "      <td>1263</td>\n",
       "      <td>2020</td>\n",
       "      <td>1338.00</td>\n",
       "      <td>engine_fuel</td>\n",
       "      <td>1.651883e+07</td>\n",
       "      <td>172.793237</td>\n",
       "      <td>3.880920</td>\n",
       "      <td>0.1</td>\n",
       "      <td>88</td>\n",
       "      <td>49.344828</td>\n",
       "      <td>-4.290370</td>\n",
       "      <td>-10.723544</td>\n",
       "      <td>8586</td>\n",
       "      <td>15079.073004</td>\n",
       "    </tr>\n",
       "    <tr>\n",
       "      <th>4</th>\n",
       "      <td>N-8915870N</td>\n",
       "      <td>Renault Sandero</td>\n",
       "      <td>standart</td>\n",
       "      <td>petrol</td>\n",
       "      <td>4.70</td>\n",
       "      <td>2012</td>\n",
       "      <td>26428</td>\n",
       "      <td>2017</td>\n",
       "      <td>825.72</td>\n",
       "      <td>engine_fuel</td>\n",
       "      <td>1.398317e+07</td>\n",
       "      <td>203.462289</td>\n",
       "      <td>4.181149</td>\n",
       "      <td>0.1</td>\n",
       "      <td>89</td>\n",
       "      <td>50.603448</td>\n",
       "      <td>-13.465342</td>\n",
       "      <td>-25.742137</td>\n",
       "      <td>8805</td>\n",
       "      <td>15009.883456</td>\n",
       "    </tr>\n",
       "  </tbody>\n",
       "</table>\n",
       "</div>"
      ],
      "text/plain": [
       "       car_id              model  car_type fuel_type  car_rating  \\\n",
       "0  y13744087j     Kia Rio X-line   economy    petrol        3.78   \n",
       "1  O41613818T         VW Polo VI   economy    petrol        3.90   \n",
       "2  d-2109686j    Renault Sandero  standart    petrol        6.30   \n",
       "3  u29695600e  Mercedes-Benz GLC  business    petrol        4.04   \n",
       "4  N-8915870N    Renault Sandero  standart    petrol        4.70   \n",
       "\n",
       "   year_to_start  riders  year_to_work  target_reg target_class  sum_distance  \\\n",
       "0           2015   76163          2021     9492.96  another_bug  1.214131e+07   \n",
       "1           2015   78218          2021     2656.23  electro_bug  1.803909e+07   \n",
       "2           2012   23340          2017     1526.11   gear_stick  1.588366e+07   \n",
       "3           2011    1263          2020     1338.00  engine_fuel  1.651883e+07   \n",
       "4           2012   26428          2017      825.72  engine_fuel  1.398317e+07   \n",
       "\n",
       "    speed_max  user_rate_mean  user_rate_min  speed_avg_max  speed_avg_mean  \\\n",
       "0  180.855726        4.737759            0.1             77       44.660920   \n",
       "1  187.862734        4.480517            0.0             88       49.862069   \n",
       "2  102.382857        4.768391            0.1             73       44.005747   \n",
       "3  172.793237        3.880920            0.1             88       49.344828   \n",
       "4  203.462289        4.181149            0.1             89       50.603448   \n",
       "\n",
       "   rating_mean  rating_min  total_avg_speed  total_max_speed  \n",
       "0    -0.901190  -10.501738             7771     14734.090155  \n",
       "1    14.018105    0.437053             8676     15568.550271  \n",
       "2     0.722771  -12.535368             7657     11740.406294  \n",
       "3    -4.290370  -10.723544             8586     15079.073004  \n",
       "4   -13.465342  -25.742137             8805     15009.883456  "
      ]
     },
     "execution_count": 17,
     "metadata": {},
     "output_type": "execute_result"
    }
   ],
   "source": [
    "df = pd.merge(df, df_rides_agg, on='car_id')\n",
    "df.head()"
   ]
  },
  {
   "cell_type": "markdown",
   "id": "2bd209c6",
   "metadata": {},
   "source": [
    "# Lets teach catboost  on updated dataframe"
   ]
  },
  {
   "cell_type": "markdown",
   "id": "18847639",
   "metadata": {},
   "source": [
    "Make function: preparation of dataframe\n",
    "\n",
    "To optimize dataframe lets use the following types: \n",
    "* `int8`  -\tByte (-128 to 127)\n",
    "* `int16` -\tInteger (-32768 to 32767)\n",
    "* `int32` -\tInteger (-2147483648 to 2147483647)\n",
    "* `int64` -\tInteger (-9223372036854775808 to 9223372036854775807)\n",
    "* `float16` - Half precision float: sign bit, 5 bits exponent, 10 bits mantissa\n",
    "* `float32`\t- Single precision float: sign bit, 8 bits exponent, 23 bits mantissa\n",
    "* `float64`\t- Double precision float: sign bit, 11 bits exponent, 52 bits mantissa"
   ]
  },
  {
   "cell_type": "code",
   "execution_count": 18,
   "id": "f4a89214",
   "metadata": {},
   "outputs": [],
   "source": [
    "def prep_1(df):\n",
    "    if df is None:\n",
    "        return 0\n",
    "    \n",
    "    temp = df.copy()\n",
    "    \n",
    "    # delete unnecessary columns\n",
    "    cols = ['car_id', 'target_class', 'target_reg']\n",
    "    for col in cols:\n",
    "        if col in df.columns:\n",
    "            temp = temp.drop(col, axis=1)\n",
    "    \n",
    "    # make ohe for columns car_type and fuel_type\n",
    "    ohe = pd.get_dummies(df[['car_type', 'fuel_type']]).drop(['car_type_business', 'fuel_type_electro'], axis=1)\n",
    "    temp = pd.concat([temp, ohe], axis=1).drop(['car_type', 'fuel_type'], axis=1)    \n",
    "    \n",
    "    temp = temp.dropna()\n",
    "    \n",
    "    # optimize df types\n",
    "    \n",
    "    temp['model'] = temp['model'].astype('category')\n",
    "    temp['car_rating'] = temp['car_rating'].astype('float16')\n",
    "    temp['year_to_start'] = temp['year_to_start'].astype('int16')\n",
    "    temp['riders'] = temp['riders'].astype('int32')\n",
    "    temp['year_to_work'] = temp['year_to_work'].astype('int16')\n",
    "    temp['sum_distance'] = temp['sum_distance'].astype('int32')\n",
    "    temp['speed_max'] = temp['speed_max'].astype('int16')\n",
    "    \n",
    "    return temp"
   ]
  },
  {
   "cell_type": "markdown",
   "id": "3deae07b",
   "metadata": {},
   "source": [
    "Make standart Train Test Split"
   ]
  },
  {
   "cell_type": "code",
   "execution_count": 19,
   "id": "7245a248",
   "metadata": {},
   "outputs": [],
   "source": [
    "X = prep_1(df)\n",
    "y = df['target_class']\n",
    "\n",
    "X_train, X_test, y_train, y_test = train_test_split(X, y, test_size=0.20, random_state=42)"
   ]
  },
  {
   "cell_type": "markdown",
   "id": "7359c6c3",
   "metadata": {},
   "source": [
    "Using default catboost"
   ]
  },
  {
   "cell_type": "code",
   "execution_count": 20,
   "id": "cc281d30",
   "metadata": {},
   "outputs": [
    {
     "name": "stdout",
     "output_type": "stream",
     "text": [
      "Learning rate set to 0.173181\n",
      "0:\tlearn: 1.5052117\ttest: 1.4863670\tbest: 1.4863670 (0)\ttotal: 59ms\tremaining: 17.6s\n",
      "20:\tlearn: 0.3442367\ttest: 0.3899284\tbest: 0.3899284 (20)\ttotal: 1.48s\tremaining: 19.6s\n",
      "40:\tlearn: 0.2766159\ttest: 0.3482224\tbest: 0.3482224 (40)\ttotal: 2.83s\tremaining: 17.9s\n",
      "60:\tlearn: 0.2197693\ttest: 0.3171467\tbest: 0.3171467 (60)\ttotal: 4.29s\tremaining: 16.8s\n",
      "80:\tlearn: 0.1911101\ttest: 0.3099999\tbest: 0.3096557 (73)\ttotal: 5.7s\tremaining: 15.4s\n",
      "100:\tlearn: 0.1624790\ttest: 0.2944123\tbest: 0.2944123 (100)\ttotal: 7.12s\tremaining: 14s\n",
      "120:\tlearn: 0.1443655\ttest: 0.2888865\tbest: 0.2886692 (119)\ttotal: 8.55s\tremaining: 12.7s\n",
      "140:\tlearn: 0.1289645\ttest: 0.2870533\tbest: 0.2861430 (135)\ttotal: 9.98s\tremaining: 11.3s\n",
      "160:\tlearn: 0.1132316\ttest: 0.2832533\tbest: 0.2832533 (160)\ttotal: 11.4s\tremaining: 9.86s\n",
      "180:\tlearn: 0.1032326\ttest: 0.2811823\tbest: 0.2808394 (174)\ttotal: 12.8s\tremaining: 8.44s\n",
      "200:\tlearn: 0.0942988\ttest: 0.2789796\tbest: 0.2788061 (199)\ttotal: 14.3s\tremaining: 7.03s\n",
      "Stopped by overfitting detector  (20 iterations wait)\n",
      "\n",
      "bestTest = 0.2788060771\n",
      "bestIteration = 199\n",
      "\n",
      "Shrink model to first 200 iterations.\n"
     ]
    }
   ],
   "source": [
    "cat_cols = ['model', \n",
    "            'year_to_start', \n",
    "            'year_to_work', \n",
    "            'car_type_economy', \n",
    "            'car_type_premium', \n",
    "            'car_type_standart', \n",
    "            'fuel_type_petrol']\n",
    "\n",
    "ctb = CatBoostClassifier(iterations=300).fit(X_train, y_train, \n",
    "                                             eval_set=(X_test, y_test), \n",
    "                                             cat_features=cat_cols, \n",
    "                                             early_stopping_rounds=20,                                         \n",
    "                                             verbose=20)"
   ]
  },
  {
   "cell_type": "code",
   "execution_count": 21,
   "id": "11a55908",
   "metadata": {
    "scrolled": false
   },
   "outputs": [
    {
     "name": "stdout",
     "output_type": "stream",
     "text": [
      "Accuracy score 0.8824786324786325\n"
     ]
    }
   ],
   "source": [
    "y_pred = ctb.predict(X_test)\n",
    "\n",
    "print(f'Accuracy score {accuracy_score(y_test, y_pred)}')"
   ]
  },
  {
   "cell_type": "code",
   "execution_count": 22,
   "id": "294cafb9",
   "metadata": {},
   "outputs": [],
   "source": [
    "# adding data to validate dataframe\n",
    "df_val = pd.merge(df_val, df_rides_agg, on='car_id')"
   ]
  },
  {
   "cell_type": "code",
   "execution_count": 23,
   "id": "bde56f27",
   "metadata": {},
   "outputs": [],
   "source": [
    "result = ctb.predict(prep_1(df_val))"
   ]
  },
  {
   "cell_type": "code",
   "execution_count": 24,
   "id": "a2a929a7",
   "metadata": {},
   "outputs": [],
   "source": [
    "df_val['target_class'] = result\n",
    "\n",
    "df_val[['car_id','target_class']].to_csv('subs/02_answer_add_data.csv', index=False)"
   ]
  },
  {
   "cell_type": "markdown",
   "id": "288ccad6",
   "metadata": {},
   "source": [
    "validated acc score: 0.888"
   ]
  },
  {
   "cell_type": "markdown",
   "id": "07c44b64",
   "metadata": {},
   "source": [
    "# Setting validation"
   ]
  },
  {
   "cell_type": "markdown",
   "id": "7b0cc942",
   "metadata": {},
   "source": [
    "We'll use `KFold` validation with 5 folds "
   ]
  },
  {
   "cell_type": "code",
   "execution_count": 25,
   "id": "ffffec7c",
   "metadata": {},
   "outputs": [],
   "source": [
    "from sklearn.model_selection import KFold"
   ]
  },
  {
   "cell_type": "code",
   "execution_count": 26,
   "id": "95d667cd",
   "metadata": {
    "scrolled": true
   },
   "outputs": [
    {
     "name": "stdout",
     "output_type": "stream",
     "text": [
      "Fold 0, Accuracy 0.889\n",
      "Fold 1, Accuracy 0.868\n",
      "Fold 2, Accuracy 0.854\n",
      "Fold 3, Accuracy 0.884\n",
      "Fold 4, Accuracy 0.884\n",
      "Overall mean accuracy 0.876, Std: 0.013\n"
     ]
    }
   ],
   "source": [
    "n_splits = 5\n",
    "ctbs = []\n",
    "scores = []\n",
    "\n",
    "kf = KFold(n_splits=n_splits, shuffle=True, random_state=42)\n",
    "for num, (train_index, test_index) in enumerate(kf.split(X)):\n",
    "    \n",
    "    X_train, X_test = X.iloc[train_index], X.iloc[test_index]\n",
    "    y_train, y_test = y.iloc[train_index], y.iloc[test_index]\n",
    "    \n",
    "    ctb = CatBoostClassifier(iterations=300).fit(X_train, y_train, \n",
    "                                                 eval_set=(X_test, y_test), \n",
    "                                                 cat_features=cat_cols, \n",
    "                                                 early_stopping_rounds=20,\n",
    "                                                 use_best_model=True,\n",
    "                                                 verbose=False)\n",
    "    y_pred = ctb.predict(X_test)\n",
    "    score = round(np.mean(y_test.values == y_pred[:,0]), 3)\n",
    "    scores.append(score)\n",
    "    ctbs.append(ctb)\n",
    "    print(f'Fold {num}, Accuracy {score}')\n",
    "    \n",
    "print(f'Overall mean accuracy {np.mean(scores).round(3)}, Std: {np.std(scores).round(3)}')"
   ]
  },
  {
   "cell_type": "markdown",
   "id": "2c5b2c8a",
   "metadata": {},
   "source": [
    "Lets try `StratifiedKFold` with 5 folds."
   ]
  },
  {
   "cell_type": "code",
   "execution_count": 27,
   "id": "6c014aab",
   "metadata": {},
   "outputs": [],
   "source": [
    "from sklearn.model_selection import StratifiedKFold"
   ]
  },
  {
   "cell_type": "code",
   "execution_count": 28,
   "id": "3a5e5aec",
   "metadata": {
    "scrolled": false
   },
   "outputs": [
    {
     "name": "stdout",
     "output_type": "stream",
     "text": [
      "Fold 0, Accuracy 0.895\n",
      "Fold 1, Accuracy 0.902\n",
      "Fold 2, Accuracy 0.893\n",
      "Fold 3, Accuracy 0.882\n",
      "Fold 4, Accuracy 0.863\n",
      "Overall mean accuracy 0.887, Std: 0.014\n"
     ]
    }
   ],
   "source": [
    "ctbs = []\n",
    "scores = []\n",
    "\n",
    "kf = StratifiedKFold(n_splits=n_splits, shuffle=True, random_state=42)\n",
    "for num, (train_index, test_index) in enumerate(kf.split(X, y)):\n",
    "    \n",
    "    X_train, X_test = X.iloc[train_index], X.iloc[test_index]\n",
    "    y_train, y_test = y.iloc[train_index], y.iloc[test_index]\n",
    "    \n",
    "    ctb = CatBoostClassifier(iterations=300).fit(X_train, y_train, \n",
    "                                                 eval_set=(X_test, y_test), \n",
    "                                                 cat_features=cat_cols, \n",
    "                                                 early_stopping_rounds=20,\n",
    "                                                 use_best_model=True,\n",
    "                                                 verbose=False)\n",
    "    y_pred = ctb.predict(X_test)\n",
    "    score = round(np.mean(y_test.values == y_pred[:,0]), 3)\n",
    "    scores.append(score)\n",
    "    ctbs.append(ctb)\n",
    "    print(f'Fold {num}, Accuracy {score}')\n",
    "    \n",
    "print(f'Overall mean accuracy {np.mean(scores).round(3)}, Std: {np.std(scores).round(3)}')"
   ]
  },
  {
   "cell_type": "markdown",
   "id": "df9b1a15",
   "metadata": {},
   "source": [
    "Stratified K-fold gives better perfomance than ordinary K-fold"
   ]
  },
  {
   "cell_type": "markdown",
   "id": "a6720ef5",
   "metadata": {},
   "source": [
    "# Make prediction for test"
   ]
  },
  {
   "cell_type": "code",
   "execution_count": 29,
   "id": "333e7003",
   "metadata": {},
   "outputs": [],
   "source": [
    "# make matrix size*n_classes\n",
    "y_pred = np.zeros((df_val.shape[0], y_train.nunique()))\n",
    "for num, ctb in enumerate(ctbs):\n",
    "    y_pred += ctb.predict_proba(prep_1(df_val))\n",
    "\n",
    "f = lambda x: ctb.classes_[x]\n",
    "df_val['target_class'] = list(map(f, y_pred.argmax(axis=1)))"
   ]
  },
  {
   "cell_type": "code",
   "execution_count": 30,
   "id": "d57a0b24",
   "metadata": {
    "scrolled": true
   },
   "outputs": [],
   "source": [
    "df_val[['car_id','target_class']].to_csv('subs/03_answer_validated.csv', index=False)"
   ]
  },
  {
   "cell_type": "markdown",
   "id": "8d60951b",
   "metadata": {},
   "source": [
    "validated acc score: 0.898 \n",
    "<br>We get increase of accuracy"
   ]
  }
 ],
 "metadata": {
  "kernelspec": {
   "display_name": "Python 3 (ipykernel)",
   "language": "python",
   "name": "python3"
  },
  "language_info": {
   "codemirror_mode": {
    "name": "ipython",
    "version": 3
   },
   "file_extension": ".py",
   "mimetype": "text/x-python",
   "name": "python",
   "nbconvert_exporter": "python",
   "pygments_lexer": "ipython3",
   "version": "3.9.13"
  }
 },
 "nbformat": 4,
 "nbformat_minor": 5
}
