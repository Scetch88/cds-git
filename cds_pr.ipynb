{
 "cells": [
  {
   "cell_type": "code",
   "execution_count": 1,
   "id": "61f45746",
   "metadata": {},
   "outputs": [],
   "source": [
    "import pandas as pd\n",
    "import numpy as np\n",
    "import matplotlib.pyplot as plt\n",
    "import seaborn as sns\n",
    "pd.set_option('display.max_columns', None)"
   ]
  },
  {
   "cell_type": "code",
   "execution_count": 2,
   "id": "31dcfe0c",
   "metadata": {},
   "outputs": [],
   "source": [
    "url1 = 'https://raw.githubusercontent.com/a-milenkin/Competitive_Data_Science/main/data/car_train.csv'\n",
    "df = pd.read_csv(url1)"
   ]
  },
  {
   "cell_type": "code",
   "execution_count": 3,
   "id": "f732a70d",
   "metadata": {
    "scrolled": true
   },
   "outputs": [
    {
     "data": {
      "text/html": [
       "<div>\n",
       "<style scoped>\n",
       "    .dataframe tbody tr th:only-of-type {\n",
       "        vertical-align: middle;\n",
       "    }\n",
       "\n",
       "    .dataframe tbody tr th {\n",
       "        vertical-align: top;\n",
       "    }\n",
       "\n",
       "    .dataframe thead th {\n",
       "        text-align: right;\n",
       "    }\n",
       "</style>\n",
       "<table border=\"1\" class=\"dataframe\">\n",
       "  <thead>\n",
       "    <tr style=\"text-align: right;\">\n",
       "      <th></th>\n",
       "      <th>car_id</th>\n",
       "      <th>model</th>\n",
       "      <th>car_type</th>\n",
       "      <th>fuel_type</th>\n",
       "      <th>car_rating</th>\n",
       "      <th>year_to_start</th>\n",
       "      <th>riders</th>\n",
       "      <th>year_to_work</th>\n",
       "      <th>target_reg</th>\n",
       "      <th>target_class</th>\n",
       "    </tr>\n",
       "  </thead>\n",
       "  <tbody>\n",
       "    <tr>\n",
       "      <th>0</th>\n",
       "      <td>y13744087j</td>\n",
       "      <td>Kia Rio X-line</td>\n",
       "      <td>economy</td>\n",
       "      <td>petrol</td>\n",
       "      <td>3.78</td>\n",
       "      <td>2015</td>\n",
       "      <td>76163</td>\n",
       "      <td>2021</td>\n",
       "      <td>9492.96</td>\n",
       "      <td>another_bug</td>\n",
       "    </tr>\n",
       "    <tr>\n",
       "      <th>1</th>\n",
       "      <td>O41613818T</td>\n",
       "      <td>VW Polo VI</td>\n",
       "      <td>economy</td>\n",
       "      <td>petrol</td>\n",
       "      <td>3.90</td>\n",
       "      <td>2015</td>\n",
       "      <td>78218</td>\n",
       "      <td>2021</td>\n",
       "      <td>2656.23</td>\n",
       "      <td>electro_bug</td>\n",
       "    </tr>\n",
       "    <tr>\n",
       "      <th>2</th>\n",
       "      <td>d-2109686j</td>\n",
       "      <td>Renault Sandero</td>\n",
       "      <td>standart</td>\n",
       "      <td>petrol</td>\n",
       "      <td>6.30</td>\n",
       "      <td>2012</td>\n",
       "      <td>23340</td>\n",
       "      <td>2017</td>\n",
       "      <td>1526.11</td>\n",
       "      <td>gear_stick</td>\n",
       "    </tr>\n",
       "    <tr>\n",
       "      <th>3</th>\n",
       "      <td>u29695600e</td>\n",
       "      <td>Mercedes-Benz GLC</td>\n",
       "      <td>business</td>\n",
       "      <td>petrol</td>\n",
       "      <td>4.04</td>\n",
       "      <td>2011</td>\n",
       "      <td>1263</td>\n",
       "      <td>2020</td>\n",
       "      <td>1338.00</td>\n",
       "      <td>engine_fuel</td>\n",
       "    </tr>\n",
       "    <tr>\n",
       "      <th>4</th>\n",
       "      <td>N-8915870N</td>\n",
       "      <td>Renault Sandero</td>\n",
       "      <td>standart</td>\n",
       "      <td>petrol</td>\n",
       "      <td>4.70</td>\n",
       "      <td>2012</td>\n",
       "      <td>26428</td>\n",
       "      <td>2017</td>\n",
       "      <td>825.72</td>\n",
       "      <td>engine_fuel</td>\n",
       "    </tr>\n",
       "  </tbody>\n",
       "</table>\n",
       "</div>"
      ],
      "text/plain": [
       "       car_id              model  car_type fuel_type  car_rating  \\\n",
       "0  y13744087j     Kia Rio X-line   economy    petrol        3.78   \n",
       "1  O41613818T         VW Polo VI   economy    petrol        3.90   \n",
       "2  d-2109686j    Renault Sandero  standart    petrol        6.30   \n",
       "3  u29695600e  Mercedes-Benz GLC  business    petrol        4.04   \n",
       "4  N-8915870N    Renault Sandero  standart    petrol        4.70   \n",
       "\n",
       "   year_to_start  riders  year_to_work  target_reg target_class  \n",
       "0           2015   76163          2021     9492.96  another_bug  \n",
       "1           2015   78218          2021     2656.23  electro_bug  \n",
       "2           2012   23340          2017     1526.11   gear_stick  \n",
       "3           2011    1263          2020     1338.00  engine_fuel  \n",
       "4           2012   26428          2017      825.72  engine_fuel  "
      ]
     },
     "execution_count": 3,
     "metadata": {},
     "output_type": "execute_result"
    }
   ],
   "source": [
    "df.head()"
   ]
  },
  {
   "cell_type": "markdown",
   "id": "54a5a2fd",
   "metadata": {},
   "source": [
    "# Start with basic dataframe to get Baseline"
   ]
  },
  {
   "cell_type": "markdown",
   "id": "a9e5f5de",
   "metadata": {},
   "source": [
    "Make a function preparing dataset"
   ]
  },
  {
   "cell_type": "code",
   "execution_count": 4,
   "id": "96d55824",
   "metadata": {},
   "outputs": [],
   "source": [
    "def prep(df):\n",
    "    if df is None:\n",
    "        return 0\n",
    "    \n",
    "    temp = df.copy()\n",
    "    temp = temp[['model', 'car_type', 'fuel_type', 'car_rating', 'year_to_start', 'riders', 'year_to_work']]\n",
    "    \n",
    "    # make ohe for columns car_type and fuel_type\n",
    "    ohe = pd.get_dummies(df[['car_type', 'fuel_type']]).drop(['car_type_business', 'fuel_type_electro'], axis=1)\n",
    "    temp = pd.concat([temp, ohe], axis=1).drop(['car_type', 'fuel_type'], axis=1)\n",
    "    \n",
    "    \n",
    "    return temp"
   ]
  },
  {
   "cell_type": "code",
   "execution_count": 5,
   "id": "f59860c7",
   "metadata": {},
   "outputs": [],
   "source": [
    "from sklearn.model_selection import train_test_split"
   ]
  },
  {
   "cell_type": "markdown",
   "id": "e9d0a12f",
   "metadata": {},
   "source": [
    "Make standart Train Test Split"
   ]
  },
  {
   "cell_type": "code",
   "execution_count": 6,
   "id": "60274aed",
   "metadata": {},
   "outputs": [],
   "source": [
    "X = prep(df)\n",
    "y = df['target_class']\n",
    "\n",
    "X_train, X_test, y_train, y_test = train_test_split(X, y, test_size=0.20, random_state=42)"
   ]
  },
  {
   "cell_type": "markdown",
   "id": "422d1686",
   "metadata": {},
   "source": [
    "Lets take default catboost"
   ]
  },
  {
   "cell_type": "code",
   "execution_count": 7,
   "id": "3c35c47a",
   "metadata": {},
   "outputs": [],
   "source": [
    "from catboost import CatBoostClassifier\n",
    "from sklearn.metrics import accuracy_score"
   ]
  },
  {
   "cell_type": "code",
   "execution_count": 8,
   "id": "c1d317c7",
   "metadata": {
    "scrolled": true
   },
   "outputs": [
    {
     "name": "stdout",
     "output_type": "stream",
     "text": [
      "Learning rate set to 0.173181\n",
      "0:\tlearn: 2.1934731\ttest: 2.1958543\tbest: 2.1958543 (0)\ttotal: 158ms\tremaining: 47.3s\n",
      "20:\tlearn: 2.0692537\ttest: 2.1918308\tbest: 2.1894681 (14)\ttotal: 1.14s\tremaining: 15.1s\n",
      "Stopped by overfitting detector  (20 iterations wait)\n",
      "\n",
      "bestTest = 2.189468085\n",
      "bestIteration = 14\n",
      "\n",
      "Shrink model to first 15 iterations.\n"
     ]
    }
   ],
   "source": [
    "cat_cols = ['model', 'year_to_start', 'year_to_work']\n",
    "ctb = CatBoostClassifier(iterations=300).fit(X_train, y_train, \n",
    "                                             eval_set=(X_test, y_test), \n",
    "                                             cat_features=cat_cols, \n",
    "                                             early_stopping_rounds=20,                                         \n",
    "                                             verbose=20)"
   ]
  },
  {
   "cell_type": "code",
   "execution_count": 9,
   "id": "8af0a7cf",
   "metadata": {},
   "outputs": [
    {
     "name": "stdout",
     "output_type": "stream",
     "text": [
      "Accuracy score 0.1111111111111111\n"
     ]
    }
   ],
   "source": [
    "y_pred = ctb.predict(X_test)\n",
    "\n",
    "print(f'Accuracy score {accuracy_score(y_test, y_pred)}')"
   ]
  },
  {
   "cell_type": "markdown",
   "id": "2e21a07e",
   "metadata": {},
   "source": [
    "# Lets Validate"
   ]
  },
  {
   "cell_type": "code",
   "execution_count": 10,
   "id": "a95559c2",
   "metadata": {},
   "outputs": [],
   "source": [
    "url2 = 'https://raw.githubusercontent.com/a-milenkin/Competitive_Data_Science/main/data/car_test.csv'\n",
    "df_val = pd.read_csv(url2)"
   ]
  },
  {
   "cell_type": "code",
   "execution_count": 11,
   "id": "1eaae95b",
   "metadata": {},
   "outputs": [
    {
     "data": {
      "text/html": [
       "<div>\n",
       "<style scoped>\n",
       "    .dataframe tbody tr th:only-of-type {\n",
       "        vertical-align: middle;\n",
       "    }\n",
       "\n",
       "    .dataframe tbody tr th {\n",
       "        vertical-align: top;\n",
       "    }\n",
       "\n",
       "    .dataframe thead th {\n",
       "        text-align: right;\n",
       "    }\n",
       "</style>\n",
       "<table border=\"1\" class=\"dataframe\">\n",
       "  <thead>\n",
       "    <tr style=\"text-align: right;\">\n",
       "      <th></th>\n",
       "      <th>car_id</th>\n",
       "      <th>model</th>\n",
       "      <th>car_type</th>\n",
       "      <th>fuel_type</th>\n",
       "      <th>car_rating</th>\n",
       "      <th>year_to_start</th>\n",
       "      <th>riders</th>\n",
       "      <th>year_to_work</th>\n",
       "    </tr>\n",
       "  </thead>\n",
       "  <tbody>\n",
       "    <tr>\n",
       "      <th>0</th>\n",
       "      <td>P17494612l</td>\n",
       "      <td>Skoda Rapid</td>\n",
       "      <td>economy</td>\n",
       "      <td>petrol</td>\n",
       "      <td>4.80</td>\n",
       "      <td>2013</td>\n",
       "      <td>42269</td>\n",
       "      <td>2019</td>\n",
       "    </tr>\n",
       "    <tr>\n",
       "      <th>1</th>\n",
       "      <td>N-1530212S</td>\n",
       "      <td>Renault Sandero</td>\n",
       "      <td>standart</td>\n",
       "      <td>petrol</td>\n",
       "      <td>4.32</td>\n",
       "      <td>2015</td>\n",
       "      <td>90014</td>\n",
       "      <td>2016</td>\n",
       "    </tr>\n",
       "    <tr>\n",
       "      <th>2</th>\n",
       "      <td>B-1154399t</td>\n",
       "      <td>Smart ForTwo</td>\n",
       "      <td>economy</td>\n",
       "      <td>petrol</td>\n",
       "      <td>4.46</td>\n",
       "      <td>2015</td>\n",
       "      <td>82684</td>\n",
       "      <td>2017</td>\n",
       "    </tr>\n",
       "    <tr>\n",
       "      <th>3</th>\n",
       "      <td>F12725233R</td>\n",
       "      <td>Smart ForFour</td>\n",
       "      <td>economy</td>\n",
       "      <td>petrol</td>\n",
       "      <td>2.80</td>\n",
       "      <td>2014</td>\n",
       "      <td>68833</td>\n",
       "      <td>2021</td>\n",
       "    </tr>\n",
       "    <tr>\n",
       "      <th>4</th>\n",
       "      <td>l-1139189J</td>\n",
       "      <td>Skoda Rapid</td>\n",
       "      <td>economy</td>\n",
       "      <td>petrol</td>\n",
       "      <td>6.56</td>\n",
       "      <td>2013</td>\n",
       "      <td>42442</td>\n",
       "      <td>2021</td>\n",
       "    </tr>\n",
       "  </tbody>\n",
       "</table>\n",
       "</div>"
      ],
      "text/plain": [
       "       car_id            model  car_type fuel_type  car_rating  year_to_start  \\\n",
       "0  P17494612l      Skoda Rapid   economy    petrol        4.80           2013   \n",
       "1  N-1530212S  Renault Sandero  standart    petrol        4.32           2015   \n",
       "2  B-1154399t     Smart ForTwo   economy    petrol        4.46           2015   \n",
       "3  F12725233R    Smart ForFour   economy    petrol        2.80           2014   \n",
       "4  l-1139189J      Skoda Rapid   economy    petrol        6.56           2013   \n",
       "\n",
       "   riders  year_to_work  \n",
       "0   42269          2019  \n",
       "1   90014          2016  \n",
       "2   82684          2017  \n",
       "3   68833          2021  \n",
       "4   42442          2021  "
      ]
     },
     "execution_count": 11,
     "metadata": {},
     "output_type": "execute_result"
    }
   ],
   "source": [
    "df_val.head()"
   ]
  },
  {
   "cell_type": "code",
   "execution_count": 12,
   "id": "de7a5004",
   "metadata": {},
   "outputs": [],
   "source": [
    "df_val['target_class'] = ctb.predict(prep(df_val))\n",
    "\n",
    "result = df_val[['car_id','target_class']]"
   ]
  },
  {
   "cell_type": "code",
   "execution_count": 13,
   "id": "eaf904d8",
   "metadata": {},
   "outputs": [],
   "source": [
    "result.to_csv('subs/answer_basic.csv', index=False)"
   ]
  },
  {
   "cell_type": "markdown",
   "id": "f17effcf",
   "metadata": {},
   "source": [
    "# Adding additional data"
   ]
  },
  {
   "cell_type": "code",
   "execution_count": 14,
   "id": "10e3d38d",
   "metadata": {},
   "outputs": [],
   "source": [
    "url1_2 = 'data/rides_info.csv'\n",
    "df_rides = pd.read_csv(url1_2)"
   ]
  },
  {
   "cell_type": "code",
   "execution_count": 15,
   "id": "5d2e21b9",
   "metadata": {},
   "outputs": [
    {
     "data": {
      "text/html": [
       "<div>\n",
       "<style scoped>\n",
       "    .dataframe tbody tr th:only-of-type {\n",
       "        vertical-align: middle;\n",
       "    }\n",
       "\n",
       "    .dataframe tbody tr th {\n",
       "        vertical-align: top;\n",
       "    }\n",
       "\n",
       "    .dataframe thead th {\n",
       "        text-align: right;\n",
       "    }\n",
       "</style>\n",
       "<table border=\"1\" class=\"dataframe\">\n",
       "  <thead>\n",
       "    <tr style=\"text-align: right;\">\n",
       "      <th></th>\n",
       "      <th>user_id</th>\n",
       "      <th>car_id</th>\n",
       "      <th>ride_id</th>\n",
       "      <th>ride_date</th>\n",
       "      <th>rating</th>\n",
       "      <th>ride_duration</th>\n",
       "      <th>ride_cost</th>\n",
       "      <th>speed_avg</th>\n",
       "      <th>speed_max</th>\n",
       "      <th>stop_times</th>\n",
       "      <th>distance</th>\n",
       "      <th>refueling</th>\n",
       "      <th>user_ride_quality</th>\n",
       "      <th>deviation_normal</th>\n",
       "    </tr>\n",
       "  </thead>\n",
       "  <tbody>\n",
       "    <tr>\n",
       "      <th>0</th>\n",
       "      <td>o52317055h</td>\n",
       "      <td>A-1049127W</td>\n",
       "      <td>b1v</td>\n",
       "      <td>2020-01-01</td>\n",
       "      <td>4.95</td>\n",
       "      <td>21</td>\n",
       "      <td>268</td>\n",
       "      <td>36</td>\n",
       "      <td>113.548538</td>\n",
       "      <td>0</td>\n",
       "      <td>514.246920</td>\n",
       "      <td>0</td>\n",
       "      <td>1.115260</td>\n",
       "      <td>2.909</td>\n",
       "    </tr>\n",
       "    <tr>\n",
       "      <th>1</th>\n",
       "      <td>H41298704y</td>\n",
       "      <td>A-1049127W</td>\n",
       "      <td>T1U</td>\n",
       "      <td>2020-01-01</td>\n",
       "      <td>6.91</td>\n",
       "      <td>8</td>\n",
       "      <td>59</td>\n",
       "      <td>36</td>\n",
       "      <td>93.000000</td>\n",
       "      <td>1</td>\n",
       "      <td>197.520662</td>\n",
       "      <td>0</td>\n",
       "      <td>1.650465</td>\n",
       "      <td>4.133</td>\n",
       "    </tr>\n",
       "    <tr>\n",
       "      <th>2</th>\n",
       "      <td>v88009926E</td>\n",
       "      <td>A-1049127W</td>\n",
       "      <td>g1p</td>\n",
       "      <td>2020-01-02</td>\n",
       "      <td>6.01</td>\n",
       "      <td>20</td>\n",
       "      <td>315</td>\n",
       "      <td>61</td>\n",
       "      <td>81.959675</td>\n",
       "      <td>0</td>\n",
       "      <td>1276.328206</td>\n",
       "      <td>0</td>\n",
       "      <td>2.599112</td>\n",
       "      <td>2.461</td>\n",
       "    </tr>\n",
       "    <tr>\n",
       "      <th>3</th>\n",
       "      <td>t14229455i</td>\n",
       "      <td>A-1049127W</td>\n",
       "      <td>S1c</td>\n",
       "      <td>2020-01-02</td>\n",
       "      <td>0.26</td>\n",
       "      <td>19</td>\n",
       "      <td>205</td>\n",
       "      <td>32</td>\n",
       "      <td>128.000000</td>\n",
       "      <td>0</td>\n",
       "      <td>535.680831</td>\n",
       "      <td>0</td>\n",
       "      <td>3.216255</td>\n",
       "      <td>0.909</td>\n",
       "    </tr>\n",
       "    <tr>\n",
       "      <th>4</th>\n",
       "      <td>W17067612E</td>\n",
       "      <td>A-1049127W</td>\n",
       "      <td>X1b</td>\n",
       "      <td>2020-01-03</td>\n",
       "      <td>1.21</td>\n",
       "      <td>56</td>\n",
       "      <td>554</td>\n",
       "      <td>38</td>\n",
       "      <td>90.000000</td>\n",
       "      <td>1</td>\n",
       "      <td>1729.143367</td>\n",
       "      <td>0</td>\n",
       "      <td>2.716550</td>\n",
       "      <td>-1.822</td>\n",
       "    </tr>\n",
       "  </tbody>\n",
       "</table>\n",
       "</div>"
      ],
      "text/plain": [
       "      user_id      car_id ride_id   ride_date  rating  ride_duration  \\\n",
       "0  o52317055h  A-1049127W     b1v  2020-01-01    4.95             21   \n",
       "1  H41298704y  A-1049127W     T1U  2020-01-01    6.91              8   \n",
       "2  v88009926E  A-1049127W     g1p  2020-01-02    6.01             20   \n",
       "3  t14229455i  A-1049127W     S1c  2020-01-02    0.26             19   \n",
       "4  W17067612E  A-1049127W     X1b  2020-01-03    1.21             56   \n",
       "\n",
       "   ride_cost  speed_avg   speed_max  stop_times     distance  refueling  \\\n",
       "0        268         36  113.548538           0   514.246920          0   \n",
       "1         59         36   93.000000           1   197.520662          0   \n",
       "2        315         61   81.959675           0  1276.328206          0   \n",
       "3        205         32  128.000000           0   535.680831          0   \n",
       "4        554         38   90.000000           1  1729.143367          0   \n",
       "\n",
       "   user_ride_quality  deviation_normal  \n",
       "0           1.115260             2.909  \n",
       "1           1.650465             4.133  \n",
       "2           2.599112             2.461  \n",
       "3           3.216255             0.909  \n",
       "4           2.716550            -1.822  "
      ]
     },
     "execution_count": 15,
     "metadata": {},
     "output_type": "execute_result"
    }
   ],
   "source": [
    "df_rides.head()"
   ]
  },
  {
   "cell_type": "code",
   "execution_count": 16,
   "id": "dca8061c",
   "metadata": {},
   "outputs": [],
   "source": [
    "# Make aggegation of additional dataframe\n",
    "df_rides_agg = df_rides.groupby('car_id', as_index=False).agg(sum_distance = ('distance', 'sum'),\n",
    "                                                               speed_max = ('speed_max', 'max'),\n",
    "                                                               user_rate_mean = ('rating', 'mean'),\n",
    "                                                               user_rate_min = ('rating', 'min'),\n",
    "                                                               speed_avg_max = ('speed_avg', 'max'),\n",
    "                                                               speed_avg_mean = ('speed_avg', 'mean'),\n",
    "                                                               rating_mean = ('user_ride_quality', 'mean'),\n",
    "                                                               rating_min = ('user_ride_quality', 'min'),\n",
    "                                                               total_avg_speed = ('speed_avg', 'sum'),\n",
    "                                                               total_max_speed = ('speed_max', 'sum')\n",
    "                                                              )"
   ]
  },
  {
   "cell_type": "code",
   "execution_count": 17,
   "id": "abcf1089",
   "metadata": {},
   "outputs": [
    {
     "data": {
      "text/html": [
       "<div>\n",
       "<style scoped>\n",
       "    .dataframe tbody tr th:only-of-type {\n",
       "        vertical-align: middle;\n",
       "    }\n",
       "\n",
       "    .dataframe tbody tr th {\n",
       "        vertical-align: top;\n",
       "    }\n",
       "\n",
       "    .dataframe thead th {\n",
       "        text-align: right;\n",
       "    }\n",
       "</style>\n",
       "<table border=\"1\" class=\"dataframe\">\n",
       "  <thead>\n",
       "    <tr style=\"text-align: right;\">\n",
       "      <th></th>\n",
       "      <th>car_id</th>\n",
       "      <th>model</th>\n",
       "      <th>car_type</th>\n",
       "      <th>fuel_type</th>\n",
       "      <th>car_rating</th>\n",
       "      <th>year_to_start</th>\n",
       "      <th>riders</th>\n",
       "      <th>year_to_work</th>\n",
       "      <th>target_reg</th>\n",
       "      <th>target_class</th>\n",
       "      <th>sum_distance</th>\n",
       "      <th>speed_max</th>\n",
       "      <th>user_rate_mean</th>\n",
       "      <th>user_rate_min</th>\n",
       "      <th>speed_avg_max</th>\n",
       "      <th>speed_avg_mean</th>\n",
       "      <th>rating_mean</th>\n",
       "      <th>rating_min</th>\n",
       "      <th>total_avg_speed</th>\n",
       "      <th>total_max_speed</th>\n",
       "    </tr>\n",
       "  </thead>\n",
       "  <tbody>\n",
       "    <tr>\n",
       "      <th>0</th>\n",
       "      <td>y13744087j</td>\n",
       "      <td>Kia Rio X-line</td>\n",
       "      <td>economy</td>\n",
       "      <td>petrol</td>\n",
       "      <td>3.78</td>\n",
       "      <td>2015</td>\n",
       "      <td>76163</td>\n",
       "      <td>2021</td>\n",
       "      <td>9492.96</td>\n",
       "      <td>another_bug</td>\n",
       "      <td>1.214131e+07</td>\n",
       "      <td>180.855726</td>\n",
       "      <td>4.737759</td>\n",
       "      <td>0.1</td>\n",
       "      <td>77</td>\n",
       "      <td>44.660920</td>\n",
       "      <td>-0.901190</td>\n",
       "      <td>-10.501738</td>\n",
       "      <td>7771</td>\n",
       "      <td>14734.090155</td>\n",
       "    </tr>\n",
       "    <tr>\n",
       "      <th>1</th>\n",
       "      <td>O41613818T</td>\n",
       "      <td>VW Polo VI</td>\n",
       "      <td>economy</td>\n",
       "      <td>petrol</td>\n",
       "      <td>3.90</td>\n",
       "      <td>2015</td>\n",
       "      <td>78218</td>\n",
       "      <td>2021</td>\n",
       "      <td>2656.23</td>\n",
       "      <td>electro_bug</td>\n",
       "      <td>1.803909e+07</td>\n",
       "      <td>187.862734</td>\n",
       "      <td>4.480517</td>\n",
       "      <td>0.0</td>\n",
       "      <td>88</td>\n",
       "      <td>49.862069</td>\n",
       "      <td>14.018105</td>\n",
       "      <td>0.437053</td>\n",
       "      <td>8676</td>\n",
       "      <td>15568.550271</td>\n",
       "    </tr>\n",
       "    <tr>\n",
       "      <th>2</th>\n",
       "      <td>d-2109686j</td>\n",
       "      <td>Renault Sandero</td>\n",
       "      <td>standart</td>\n",
       "      <td>petrol</td>\n",
       "      <td>6.30</td>\n",
       "      <td>2012</td>\n",
       "      <td>23340</td>\n",
       "      <td>2017</td>\n",
       "      <td>1526.11</td>\n",
       "      <td>gear_stick</td>\n",
       "      <td>1.588366e+07</td>\n",
       "      <td>102.382857</td>\n",
       "      <td>4.768391</td>\n",
       "      <td>0.1</td>\n",
       "      <td>73</td>\n",
       "      <td>44.005747</td>\n",
       "      <td>0.722771</td>\n",
       "      <td>-12.535368</td>\n",
       "      <td>7657</td>\n",
       "      <td>11740.406294</td>\n",
       "    </tr>\n",
       "    <tr>\n",
       "      <th>3</th>\n",
       "      <td>u29695600e</td>\n",
       "      <td>Mercedes-Benz GLC</td>\n",
       "      <td>business</td>\n",
       "      <td>petrol</td>\n",
       "      <td>4.04</td>\n",
       "      <td>2011</td>\n",
       "      <td>1263</td>\n",
       "      <td>2020</td>\n",
       "      <td>1338.00</td>\n",
       "      <td>engine_fuel</td>\n",
       "      <td>1.651883e+07</td>\n",
       "      <td>172.793237</td>\n",
       "      <td>3.880920</td>\n",
       "      <td>0.1</td>\n",
       "      <td>88</td>\n",
       "      <td>49.344828</td>\n",
       "      <td>-4.290370</td>\n",
       "      <td>-10.723544</td>\n",
       "      <td>8586</td>\n",
       "      <td>15079.073004</td>\n",
       "    </tr>\n",
       "    <tr>\n",
       "      <th>4</th>\n",
       "      <td>N-8915870N</td>\n",
       "      <td>Renault Sandero</td>\n",
       "      <td>standart</td>\n",
       "      <td>petrol</td>\n",
       "      <td>4.70</td>\n",
       "      <td>2012</td>\n",
       "      <td>26428</td>\n",
       "      <td>2017</td>\n",
       "      <td>825.72</td>\n",
       "      <td>engine_fuel</td>\n",
       "      <td>1.398317e+07</td>\n",
       "      <td>203.462289</td>\n",
       "      <td>4.181149</td>\n",
       "      <td>0.1</td>\n",
       "      <td>89</td>\n",
       "      <td>50.603448</td>\n",
       "      <td>-13.465342</td>\n",
       "      <td>-25.742137</td>\n",
       "      <td>8805</td>\n",
       "      <td>15009.883456</td>\n",
       "    </tr>\n",
       "  </tbody>\n",
       "</table>\n",
       "</div>"
      ],
      "text/plain": [
       "       car_id              model  car_type fuel_type  car_rating  \\\n",
       "0  y13744087j     Kia Rio X-line   economy    petrol        3.78   \n",
       "1  O41613818T         VW Polo VI   economy    petrol        3.90   \n",
       "2  d-2109686j    Renault Sandero  standart    petrol        6.30   \n",
       "3  u29695600e  Mercedes-Benz GLC  business    petrol        4.04   \n",
       "4  N-8915870N    Renault Sandero  standart    petrol        4.70   \n",
       "\n",
       "   year_to_start  riders  year_to_work  target_reg target_class  sum_distance  \\\n",
       "0           2015   76163          2021     9492.96  another_bug  1.214131e+07   \n",
       "1           2015   78218          2021     2656.23  electro_bug  1.803909e+07   \n",
       "2           2012   23340          2017     1526.11   gear_stick  1.588366e+07   \n",
       "3           2011    1263          2020     1338.00  engine_fuel  1.651883e+07   \n",
       "4           2012   26428          2017      825.72  engine_fuel  1.398317e+07   \n",
       "\n",
       "    speed_max  user_rate_mean  user_rate_min  speed_avg_max  speed_avg_mean  \\\n",
       "0  180.855726        4.737759            0.1             77       44.660920   \n",
       "1  187.862734        4.480517            0.0             88       49.862069   \n",
       "2  102.382857        4.768391            0.1             73       44.005747   \n",
       "3  172.793237        3.880920            0.1             88       49.344828   \n",
       "4  203.462289        4.181149            0.1             89       50.603448   \n",
       "\n",
       "   rating_mean  rating_min  total_avg_speed  total_max_speed  \n",
       "0    -0.901190  -10.501738             7771     14734.090155  \n",
       "1    14.018105    0.437053             8676     15568.550271  \n",
       "2     0.722771  -12.535368             7657     11740.406294  \n",
       "3    -4.290370  -10.723544             8586     15079.073004  \n",
       "4   -13.465342  -25.742137             8805     15009.883456  "
      ]
     },
     "execution_count": 17,
     "metadata": {},
     "output_type": "execute_result"
    }
   ],
   "source": [
    "df = pd.merge(df, df_rides_agg, on='car_id')\n",
    "df.head()"
   ]
  },
  {
   "cell_type": "markdown",
   "id": "7ff040b7",
   "metadata": {},
   "source": [
    "# Lets teach catboost  on updated dataframe"
   ]
  },
  {
   "cell_type": "markdown",
   "id": "eeedfb8d",
   "metadata": {},
   "source": [
    "Make function: preparation of dataframe\n",
    "\n",
    "To optimize dataframe lets use the following types: \n",
    "* `int8`  -\tByte (-128 to 127)\n",
    "* `int16` -\tInteger (-32768 to 32767)\n",
    "* `int32` -\tInteger (-2147483648 to 2147483647)\n",
    "* `int64` -\tInteger (-9223372036854775808 to 9223372036854775807)\n",
    "* `float16` - Half precision float: sign bit, 5 bits exponent, 10 bits mantissa\n",
    "* `float32`\t- Single precision float: sign bit, 8 bits exponent, 23 bits mantissa\n",
    "* `float64`\t- Double precision float: sign bit, 11 bits exponent, 52 bits mantissa"
   ]
  },
  {
   "cell_type": "code",
   "execution_count": 18,
   "id": "148bd52f",
   "metadata": {},
   "outputs": [],
   "source": [
    "def prep_1(df):\n",
    "    if df is None:\n",
    "        return 0\n",
    "    temp = df.copy()\n",
    "    \n",
    "    temp = temp.drop('car_id', axis=1)\n",
    "    \n",
    "    # make ohe for columns car_type and fuel_type\n",
    "    ohe = pd.get_dummies(df[['car_type', 'fuel_type']]).drop(['car_type_business', 'fuel_type_electro'], axis=1)\n",
    "    temp = pd.concat([temp, ohe], axis=1).drop(['car_type', 'fuel_type'], axis=1)    \n",
    "    \n",
    "    temp = temp.dropna()\n",
    "    \n",
    "    # optimize df types\n",
    "    \n",
    "    temp['model'] = temp['model'].astype('category')\n",
    "    temp['car_rating'] = temp['car_rating'].astype('float16')\n",
    "    temp['year_to_start'] = temp['year_to_start'].astype('int16')\n",
    "    temp['riders'] = temp['riders'].astype('int32')\n",
    "    temp['year_to_work'] = temp['year_to_work'].astype('int16')\n",
    "    temp['sum_distance'] = temp['sum_distance'].astype('int32')\n",
    "    temp['speed_max'] = temp['speed_max'].astype('int16')\n",
    "    \n",
    "    return temp"
   ]
  },
  {
   "cell_type": "markdown",
   "id": "34ca9c23",
   "metadata": {},
   "source": [
    "Make standart Train Test Split"
   ]
  },
  {
   "cell_type": "code",
   "execution_count": 19,
   "id": "b80e5bae",
   "metadata": {},
   "outputs": [],
   "source": [
    "df = prep_1(df.drop(['target_reg'], axis=1))\n",
    "X = df.drop(['target_class'], axis=1)\n",
    "y = df['target_class']\n",
    "\n",
    "X_train, X_test, y_train, y_test = train_test_split(X, y, test_size=0.20, random_state=42)"
   ]
  },
  {
   "cell_type": "markdown",
   "id": "0a3a9b02",
   "metadata": {},
   "source": [
    "Using default catboost"
   ]
  },
  {
   "cell_type": "code",
   "execution_count": 20,
   "id": "6a8137b1",
   "metadata": {},
   "outputs": [
    {
     "name": "stdout",
     "output_type": "stream",
     "text": [
      "Learning rate set to 0.173181\n",
      "0:\tlearn: 1.5052117\ttest: 1.4863670\tbest: 1.4863670 (0)\ttotal: 55.3ms\tremaining: 16.5s\n",
      "20:\tlearn: 0.3442367\ttest: 0.3899284\tbest: 0.3899284 (20)\ttotal: 1.4s\tremaining: 18.6s\n",
      "40:\tlearn: 0.2766159\ttest: 0.3482224\tbest: 0.3482224 (40)\ttotal: 2.71s\tremaining: 17.1s\n",
      "60:\tlearn: 0.2197693\ttest: 0.3171467\tbest: 0.3171467 (60)\ttotal: 4.07s\tremaining: 15.9s\n",
      "80:\tlearn: 0.1911101\ttest: 0.3099999\tbest: 0.3096557 (73)\ttotal: 5.44s\tremaining: 14.7s\n",
      "100:\tlearn: 0.1624790\ttest: 0.2944123\tbest: 0.2944123 (100)\ttotal: 6.8s\tremaining: 13.4s\n",
      "120:\tlearn: 0.1443655\ttest: 0.2888865\tbest: 0.2886692 (119)\ttotal: 8.17s\tremaining: 12.1s\n",
      "140:\tlearn: 0.1289645\ttest: 0.2870533\tbest: 0.2861430 (135)\ttotal: 9.54s\tremaining: 10.8s\n",
      "160:\tlearn: 0.1132316\ttest: 0.2832533\tbest: 0.2832533 (160)\ttotal: 10.9s\tremaining: 9.41s\n",
      "180:\tlearn: 0.1032326\ttest: 0.2811823\tbest: 0.2808394 (174)\ttotal: 12.3s\tremaining: 8.06s\n",
      "200:\tlearn: 0.0942988\ttest: 0.2789796\tbest: 0.2788061 (199)\ttotal: 13.6s\tremaining: 6.7s\n",
      "Stopped by overfitting detector  (20 iterations wait)\n",
      "\n",
      "bestTest = 0.2788060771\n",
      "bestIteration = 199\n",
      "\n",
      "Shrink model to first 200 iterations.\n"
     ]
    }
   ],
   "source": [
    "cat_cols = ['model', \n",
    "            'year_to_start', \n",
    "            'year_to_work', \n",
    "            'car_type_economy', \n",
    "            'car_type_premium', \n",
    "            'car_type_standart', \n",
    "            'fuel_type_petrol']\n",
    "\n",
    "ctb = CatBoostClassifier(iterations=300).fit(X_train, y_train, \n",
    "                                             eval_set=(X_test, y_test), \n",
    "                                             cat_features=cat_cols, \n",
    "                                             early_stopping_rounds=20,                                         \n",
    "                                             verbose=20)"
   ]
  },
  {
   "cell_type": "code",
   "execution_count": 21,
   "id": "b8d9678a",
   "metadata": {
    "scrolled": true
   },
   "outputs": [
    {
     "name": "stdout",
     "output_type": "stream",
     "text": [
      "Accuracy score 0.8824786324786325\n"
     ]
    }
   ],
   "source": [
    "y_pred = ctb.predict(X_test)\n",
    "\n",
    "print(f'Accuracy score {accuracy_score(y_test, y_pred)}')"
   ]
  },
  {
   "cell_type": "code",
   "execution_count": 22,
   "id": "de4d84e5",
   "metadata": {},
   "outputs": [],
   "source": [
    "# adding data to validate dataframe\n",
    "df_val = pd.merge(df_val, df_rides_agg, on='car_id')"
   ]
  },
  {
   "cell_type": "code",
   "execution_count": 24,
   "id": "10e3db2a",
   "metadata": {},
   "outputs": [],
   "source": [
    "result = ctb.predict(prep_1(df_val).drop(['target_class'], axis=1))"
   ]
  },
  {
   "cell_type": "code",
   "execution_count": 25,
   "id": "7b39b96a",
   "metadata": {},
   "outputs": [],
   "source": [
    "df_val['target_class'] = result\n",
    "\n",
    "df_val[['car_id','target_class']].to_csv('subs/answer_add_data.csv', index=False)"
   ]
  }
 ],
 "metadata": {
  "kernelspec": {
   "display_name": "Python 3 (ipykernel)",
   "language": "python",
   "name": "python3"
  },
  "language_info": {
   "codemirror_mode": {
    "name": "ipython",
    "version": 3
   },
   "file_extension": ".py",
   "mimetype": "text/x-python",
   "name": "python",
   "nbconvert_exporter": "python",
   "pygments_lexer": "ipython3",
   "version": "3.9.13"
  }
 },
 "nbformat": 4,
 "nbformat_minor": 5
}
